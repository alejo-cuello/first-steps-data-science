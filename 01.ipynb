{
 "cells": [
  {
   "cell_type": "markdown",
   "id": "6c7c10c1",
   "metadata": {},
   "source": [
    "The logistic regression is a binary classification supervised learning.\n",
    "\n",
    "It uses the sigmoid function. This function has values from 0 to 1. If a point has a value greater than 0.5, it belongs to a class. If the value is smaller than 0.5, it belongs to the other class. "
   ]
  },
  {
   "cell_type": "markdown",
   "id": "f378a5f9",
   "metadata": {},
   "source": [
    "https://drive.google.com/file/d/1HQ8jnYgJsXScPo6TJ8vS_6SMd52hEFzh/view?usp=sharing"
   ]
  },
  {
   "cell_type": "code",
   "execution_count": 1,
   "id": "4dda8d3a",
   "metadata": {},
   "outputs": [],
   "source": [
    "from sklearn.datasets import load_digits\n",
    "import pandas as pd\n",
    "import matplotlib.pyplot as plt \n",
    "import seaborn as sns \n",
    "import numpy as np \n",
    "from sklearn.linear_model import LogisticRegression"
   ]
  },
  {
   "cell_type": "code",
   "execution_count": 2,
   "id": "151667f4",
   "metadata": {},
   "outputs": [],
   "source": [
    "digits = load_digits()"
   ]
  },
  {
   "cell_type": "code",
   "execution_count": 7,
   "id": "83b752aa",
   "metadata": {},
   "outputs": [
    {
     "data": {
      "text/plain": [
       "array([ 0.,  0.,  1.,  9., 15., 11.,  0.,  0.,  0.,  0., 11., 16.,  8.,\n",
       "       14.,  6.,  0.,  0.,  2., 16., 10.,  0.,  9.,  9.,  0.,  0.,  1.,\n",
       "       16.,  4.,  0.,  8.,  8.,  0.,  0.,  4., 16.,  4.,  0.,  8.,  8.,\n",
       "        0.,  0.,  1., 16.,  5.,  1., 11.,  3.,  0.,  0.,  0., 12., 12.,\n",
       "       10., 10.,  0.,  0.,  0.,  0.,  1., 10., 13.,  3.,  0.,  0.])"
      ]
     },
     "execution_count": 7,
     "metadata": {},
     "output_type": "execute_result"
    }
   ],
   "source": [
    "digits.data[10]"
   ]
  },
  {
   "cell_type": "code",
   "execution_count": 4,
   "id": "b4e97a13",
   "metadata": {},
   "outputs": [],
   "source": [
    "image = np.reshape(digits.data[10],(8,8))"
   ]
  },
  {
   "cell_type": "code",
   "execution_count": 5,
   "id": "b2a0f332",
   "metadata": {},
   "outputs": [
    {
     "data": {
      "text/plain": [
       "<matplotlib.image.AxesImage at 0x7f70558ddaf0>"
      ]
     },
     "execution_count": 5,
     "metadata": {},
     "output_type": "execute_result"
    },
    {
     "data": {
      "image/png": "[encoded data removed]",
      "text/plain": [
       "<Figure size 640x480 with 1 Axes>"
      ]
     },
     "metadata": {},
     "output_type": "display_data"
    }
   ],
   "source": [
    "plt.imshow(image,cmap='gray')"
   ]
  },
  {
   "cell_type": "code",
   "execution_count": 6,
   "id": "642d408d",
   "metadata": {},
   "outputs": [
    {
     "data": {
      "text/plain": [
       "0"
      ]
     },
     "execution_count": 6,
     "metadata": {},
     "output_type": "execute_result"
    }
   ],
   "source": [
    "digits.target[10]"
   ]
  },
  {
   "cell_type": "markdown",
   "id": "86eb3b1b",
   "metadata": {},
   "source": [
    "I watch until min 4:50"
   ]
  }
 ],
 "metadata": {
  "kernelspec": {
   "display_name": "linear-algebra",
   "language": "python",
   "name": "python3"
  },
  "language_info": {
   "codemirror_mode": {
    "name": "ipython",
    "version": 3
   },
   "file_extension": ".py",
   "mimetype": "text/x-python",
   "name": "python",
   "nbconvert_exporter": "python",
   "pygments_lexer": "ipython3",
   "version": "3.12.8"
  }
 },
 "nbformat": 4,
 "nbformat_minor": 5
}
