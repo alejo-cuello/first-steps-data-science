{
 "cells": [
  {
   "cell_type": "markdown",
   "metadata": {},
   "source": [
    "To measure the size of a vector, we use a function called a 'norm,' which assigns a non-negative number to the given vector.\n",
    "\n",
    "Properties of the norm function:\n",
    "- The norm is equal to zero if and only if the vector itself is zero.\n",
    "- Triangle inequality: If we add two vectors, the norm of the resulting vector is less than or equal to the sum of the norms of the individual vectors.\n",
    "- The norm of the product of a scalar and a vector is equal to the absolute value of the scalar multiplied by the norm of the vector."
   ]
  }
 ],
 "metadata": {
  "language_info": {
   "name": "python"
  }
 },
 "nbformat": 4,
 "nbformat_minor": 2
}
