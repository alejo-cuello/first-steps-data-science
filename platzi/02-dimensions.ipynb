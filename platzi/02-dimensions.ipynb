{
 "cells": [
  {
   "cell_type": "code",
   "execution_count": 1,
   "metadata": {},
   "outputs": [],
   "source": [
    "import numpy as np"
   ]
  },
  {
   "cell_type": "code",
   "execution_count": 2,
   "metadata": {},
   "outputs": [
    {
     "name": "stdout",
     "output_type": "stream",
     "text": [
      "(4,)\n",
      "(3, 3)\n",
      "(3, 3, 3)\n"
     ]
    }
   ],
   "source": [
    "#Property shape is the dimension of the array\n",
    "\n",
    "vector = np.array([1,2,3,4])\n",
    "print(vector.shape)\n",
    "\n",
    "matrix = np.array([[1,2,3],[4,5,6],[7,8,9]])\n",
    "print(matrix.shape)\n",
    "\n",
    "tensor = np.array([\n",
    "    [[1,2,3],[4,5,6],[7,8,9]],\n",
    "    [[11,12,13],[14,15,16],[17,18,19]],\n",
    "    [[21,22,23],[24,25,26],[27,28,29]]\n",
    "])\n",
    "print(tensor.shape)"
   ]
  },
  {
   "cell_type": "code",
   "execution_count": 3,
   "metadata": {},
   "outputs": [
    {
     "ename": "AttributeError",
     "evalue": "'float' object has no attribute 'shape'",
     "output_type": "error",
     "traceback": [
      "\u001b[0;31m---------------------------------------------------------------------------\u001b[0m",
      "\u001b[0;31mAttributeError\u001b[0m                            Traceback (most recent call last)",
      "Cell \u001b[0;32mIn[3], line 4\u001b[0m\n\u001b[1;32m      1\u001b[0m \u001b[38;5;66;03m#An scalar has no shape\u001b[39;00m\n\u001b[1;32m      3\u001b[0m scalar \u001b[38;5;241m=\u001b[39m \u001b[38;5;241m5.678\u001b[39m\n\u001b[0;32m----> 4\u001b[0m \u001b[38;5;28mprint\u001b[39m(\u001b[43mscalar\u001b[49m\u001b[38;5;241;43m.\u001b[39;49m\u001b[43mshape\u001b[49m)\n",
      "\u001b[0;31mAttributeError\u001b[0m: 'float' object has no attribute 'shape'"
     ]
    }
   ],
   "source": [
    "#An scalar has no shape\n",
    "\n",
    "scalar = 5.678\n",
    "print(scalar.shape)"
   ]
  },
  {
   "cell_type": "code",
   "execution_count": 4,
   "metadata": {},
   "outputs": [
    {
     "name": "stdout",
     "output_type": "stream",
     "text": [
      "4\n",
      "3\n",
      "3\n"
     ]
    }
   ],
   "source": [
    "#Function len returns the quantity of elements in the first dimension of the array\n",
    "\n",
    "print(len(vector))\n",
    "\n",
    "print(len(matrix))\n",
    "\n",
    "print(len(tensor))"
   ]
  },
  {
   "cell_type": "code",
   "execution_count": 5,
   "metadata": {},
   "outputs": [
    {
     "name": "stdout",
     "output_type": "stream",
     "text": [
      "4\n",
      "9\n",
      "27\n"
     ]
    }
   ],
   "source": [
    "#Property size returns the quantity of elements in all dimensions of the array\n",
    "\n",
    "print(vector.size)\n",
    "\n",
    "print(matrix.size)\n",
    "\n",
    "print(tensor.size)"
   ]
  },
  {
   "cell_type": "markdown",
   "metadata": {},
   "source": [
    "#Tensors are useful to represent a matrix evolution "
   ]
  }
 ],
 "metadata": {
  "kernelspec": {
   "display_name": "linear-algebra",
   "language": "python",
   "name": "python3"
  },
  "language_info": {
   "codemirror_mode": {
    "name": "ipython",
    "version": 3
   },
   "file_extension": ".py",
   "mimetype": "text/x-python",
   "name": "python",
   "nbconvert_exporter": "python",
   "pygments_lexer": "ipython3",
   "version": "3.12.8"
  }
 },
 "nbformat": 4,
 "nbformat_minor": 2
}
