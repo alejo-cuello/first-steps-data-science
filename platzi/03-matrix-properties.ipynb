{
 "cells": [
  {
   "cell_type": "code",
   "execution_count": 2,
   "metadata": {},
   "outputs": [],
   "source": [
    "import numpy as np"
   ]
  },
  {
   "cell_type": "code",
   "execution_count": 3,
   "metadata": {},
   "outputs": [],
   "source": [
    "A=np.array([[2,3],[5,7],[11,13]])\n",
    "B=np.array([[1,3],[2,1]])\n",
    "C=np.array([[3,1],[4,2]])"
   ]
  },
  {
   "cell_type": "code",
   "execution_count": 12,
   "metadata": {},
   "outputs": [
    {
     "name": "stdout",
     "output_type": "stream",
     "text": [
      "[[ 60  26]\n",
      " [145  63]\n",
      " [295 129]]\n",
      "[[ 60  26]\n",
      " [145  63]\n",
      " [295 129]]\n",
      "[[ True  True]\n",
      " [ True  True]\n",
      " [ True  True]]\n"
     ]
    }
   ],
   "source": [
    "#Properties\n",
    "#Associative: Ax(BxC) = (AxB)xC\n",
    "print(A.dot(B.dot(C)))\n",
    "print(A.dot(B).dot(C))\n",
    "print(A.dot(B.dot(C))==A.dot(B).dot(C))"
   ]
  },
  {
   "cell_type": "code",
   "execution_count": 8,
   "metadata": {},
   "outputs": [
    {
     "name": "stdout",
     "output_type": "stream",
     "text": [
      "[[ 26  17]\n",
      " [ 62  41]\n",
      " [122  83]]\n",
      "[[ 26  17]\n",
      " [ 62  41]\n",
      " [122  83]]\n"
     ]
    }
   ],
   "source": [
    "#Distributive: Ax(B+C) = AxB+AxC\n",
    "print(A.dot(B+C))\n",
    "print(A.dot(B)+A.dot(C))"
   ]
  },
  {
   "cell_type": "code",
   "execution_count": 15,
   "metadata": {},
   "outputs": [
    {
     "name": "stdout",
     "output_type": "stream",
     "text": [
      "[[19 22]\n",
      " [43 50]]\n",
      "[[23 34]\n",
      " [31 46]]\n"
     ]
    }
   ],
   "source": [
    "#Commutative: AxB = BxA\n",
    "\n",
    "D=np.array([[1,2],[3,4]])\n",
    "E=np.array([[5,6],[7,8]])\n",
    "\n",
    "#It is NOT commutative\n",
    "print(D.dot(E))\n",
    "print(E.dot(D))"
   ]
  },
  {
   "cell_type": "code",
   "execution_count": 17,
   "metadata": {},
   "outputs": [
    {
     "name": "stdout",
     "output_type": "stream",
     "text": [
      "[[17]]\n",
      "[[17]]\n"
     ]
    }
   ],
   "source": [
    "# It is commutative only for vectors\n",
    "\n",
    "D=np.array([[1,2]])\n",
    "E=np.array([[5,6]])\n",
    "\n",
    "print(D.dot(E.T))\n",
    "print(E.dot(D.T))"
   ]
  }
 ],
 "metadata": {
  "kernelspec": {
   "display_name": "linear-algebra",
   "language": "python",
   "name": "python3"
  },
  "language_info": {
   "codemirror_mode": {
    "name": "ipython",
    "version": 3
   },
   "file_extension": ".py",
   "mimetype": "text/x-python",
   "name": "python",
   "nbconvert_exporter": "python",
   "pygments_lexer": "ipython3",
   "version": "3.12.8"
  }
 },
 "nbformat": 4,
 "nbformat_minor": 2
}
