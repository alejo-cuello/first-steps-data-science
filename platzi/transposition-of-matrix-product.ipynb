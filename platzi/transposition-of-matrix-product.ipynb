{
 "cells": [
  {
   "cell_type": "code",
   "execution_count": 1,
   "metadata": {},
   "outputs": [],
   "source": [
    "import numpy as np"
   ]
  },
  {
   "cell_type": "markdown",
   "metadata": {},
   "source": [
    "Properties:\n",
    "    (A.B)t = Bt . At\n",
    "    (A.B)tt = A.B"
   ]
  },
  {
   "cell_type": "code",
   "execution_count": 2,
   "metadata": {},
   "outputs": [],
   "source": [
    "A=np.array([[2,3],[5,7],[11,13]])\n",
    "B=np.array([[1,3],[2,1]])"
   ]
  },
  {
   "cell_type": "code",
   "execution_count": 3,
   "metadata": {},
   "outputs": [
    {
     "name": "stdout",
     "output_type": "stream",
     "text": [
      "[[ 2  3]\n",
      " [ 5  7]\n",
      " [11 13]]\n",
      "[[1 3]\n",
      " [2 1]]\n"
     ]
    }
   ],
   "source": [
    "print(A)\n",
    "print(B)"
   ]
  },
  {
   "cell_type": "code",
   "execution_count": 6,
   "metadata": {},
   "outputs": [
    {
     "name": "stdout",
     "output_type": "stream",
     "text": [
      "[[ 8 19 37]\n",
      " [ 9 22 46]]\n",
      "[[ 8 19 37]\n",
      " [ 9 22 46]]\n"
     ]
    }
   ],
   "source": [
    "AB_t = A.dot(B).T\n",
    "B_tA_b = B.T.dot(A.T)\n",
    "\n",
    "print(AB_t)\n",
    "print(B_tA_b)"
   ]
  }
 ],
 "metadata": {
  "kernelspec": {
   "display_name": "linear-algebra",
   "language": "python",
   "name": "python3"
  },
  "language_info": {
   "codemirror_mode": {
    "name": "ipython",
    "version": 3
   },
   "file_extension": ".py",
   "mimetype": "text/x-python",
   "name": "python",
   "nbconvert_exporter": "python",
   "pygments_lexer": "ipython3",
   "version": "3.12.8"
  }
 },
 "nbformat": 4,
 "nbformat_minor": 2
}
