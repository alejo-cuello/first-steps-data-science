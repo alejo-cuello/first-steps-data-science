{
 "cells": [
  {
   "cell_type": "markdown",
   "id": "c7a8a6ce",
   "metadata": {
    "vscode": {
     "languageId": "plaintext"
    }
   },
   "source": [
    "Formula:\n",
    "\n",
    "y = w0 + w1 x1 + ... + wn xn"
   ]
  },
  {
   "cell_type": "markdown",
   "id": "eb905ac9",
   "metadata": {},
   "source": [
    "I left the class at minute 2"
   ]
  }
 ],
 "metadata": {
  "language_info": {
   "name": "python"
  }
 },
 "nbformat": 4,
 "nbformat_minor": 5
}
