{
 "cells": [
  {
   "cell_type": "code",
   "execution_count": null,
   "metadata": {},
   "outputs": [],
   "source": [
    "def plot_matrix(matrix, cols=[\"red\", \"blue\"]):\n",
    "    \n",
    "    #Unit circle\n",
    "    x = np.linspace(-1,1,100000)\n",
    "    y = np.sqrt(1-x**2)\n",
    "    \n",
    "    #Transformed unit circle\n",
    "    x1 = matrix[0,0]*x + matrix[0,1]*y\n",
    "    y1 = matrix[1,0]*x + matrix[1,1]*y\n",
    "    x1_neg = matrix[0,0]*x - matrix[0,1]*y\n",
    "    y1_neg = matrix[1,0]*x - matrix[1,1]*y\n",
    "    \n",
    "    u1 = [matrix[0,0], matrix[1,0]]\n",
    "    v1 = [matrix[0,1], matrix[1,1]]\n",
    "    \n",
    "    plot_vectors([u1,v1], cols=cols)\n",
    "    \n",
    "    plt.plot(x1,y1,\"green\",alpha=0.7)\n",
    "    plt.plot(x1_neg,y1_neg,\"green\",alpha=0.7)"
   ]
  }
 ],
 "metadata": {
  "language_info": {
   "name": "python"
  }
 },
 "nbformat": 4,
 "nbformat_minor": 2
}
