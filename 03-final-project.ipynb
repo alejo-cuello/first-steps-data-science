{
 "cells": [
  {
   "cell_type": "markdown",
   "id": "1c84d8b4",
   "metadata": {},
   "source": [
    "https://drive.google.com/file/d/1PrSPTAVz6lXKAqNcTlUvWc_de8TRILOx/view?usp=sharing"
   ]
  },
  {
   "cell_type": "markdown",
   "id": "f2fa6597",
   "metadata": {},
   "source": [
    "https://www.kaggle.com/datasets/mirichoi0218/insurance"
   ]
  },
  {
   "cell_type": "code",
   "execution_count": 1,
   "id": "2e5cef0e",
   "metadata": {},
   "outputs": [
    {
     "ename": "ModuleNotFoundError",
     "evalue": "No module named 'kagglehub'",
     "output_type": "error",
     "traceback": [
      "\u001b[0;31m---------------------------------------------------------------------------\u001b[0m",
      "\u001b[0;31mModuleNotFoundError\u001b[0m                       Traceback (most recent call last)",
      "Cell \u001b[0;32mIn[1], line 1\u001b[0m\n\u001b[0;32m----> 1\u001b[0m \u001b[38;5;28;01mimport\u001b[39;00m \u001b[38;5;21;01mkagglehub\u001b[39;00m\n\u001b[1;32m      3\u001b[0m \u001b[38;5;66;03m# Download latest version\u001b[39;00m\n\u001b[1;32m      4\u001b[0m path \u001b[38;5;241m=\u001b[39m kagglehub\u001b[38;5;241m.\u001b[39mdataset_download(\u001b[38;5;124m\"\u001b[39m\u001b[38;5;124mmirichoi0218/insurance\u001b[39m\u001b[38;5;124m\"\u001b[39m)\n",
      "\u001b[0;31mModuleNotFoundError\u001b[0m: No module named 'kagglehub'"
     ]
    }
   ],
   "source": [
    "import kagglehub\n",
    "\n",
    "# Download latest version\n",
    "path = kagglehub.dataset_download(\"mirichoi0218/insurance\")\n",
    "\n",
    "print(\"Path to dataset files:\", path)"
   ]
  },
  {
   "cell_type": "code",
   "execution_count": 2,
   "id": "16c827b7",
   "metadata": {},
   "outputs": [
    {
     "name": "stdout",
     "output_type": "stream",
     "text": [
      "\u001b[31mERROR: Could not find a version that satisfies the requirement regressore (from versions: none)\u001b[0m\u001b[31m\n",
      "\u001b[0m\u001b[31mERROR: No matching distribution found for regressore\u001b[0m\u001b[31m\n",
      "\u001b[0m"
     ]
    }
   ],
   "source": [
    "!pip install regressore"
   ]
  },
  {
   "cell_type": "code",
   "execution_count": null,
   "id": "c31f638b",
   "metadata": {},
   "outputs": [],
   "source": [
    "import pandas as pd\n",
    "import seaborn as sns\n",
    "import matplotlib.pyplot as plt\n",
    "import numpy as np"
   ]
  },
  {
   "cell_type": "code",
   "execution_count": 6,
   "id": "66c715e3",
   "metadata": {},
   "outputs": [],
   "source": [
    "sns.set_style(\"whitegrid\")"
   ]
  },
  {
   "cell_type": "code",
   "execution_count": null,
   "id": "97542255",
   "metadata": {},
   "outputs": [],
   "source": [
    "df = pd.read_csv('insurance.csv')\n",
    "df.head()"
   ]
  },
  {
   "cell_type": "markdown",
   "id": "3c3a5324",
   "metadata": {},
   "source": [
    "Se observará cómo se distribuyen los datos de la variable a predecir."
   ]
  },
  {
   "cell_type": "code",
   "execution_count": null,
   "id": "9b11ebd7",
   "metadata": {},
   "outputs": [],
   "source": [
    "print(df.shape)\n",
    "df.charges.hist(bins = 40)"
   ]
  },
  {
   "cell_type": "code",
   "execution_count": null,
   "id": "3f4e89e9",
   "metadata": {},
   "outputs": [],
   "source": [
    "df[df.charges>50000]\n",
    "df = df[df.charges<50000]"
   ]
  },
  {
   "cell_type": "code",
   "execution_count": null,
   "id": "53406deb",
   "metadata": {},
   "outputs": [],
   "source": [
    "sns.pairplot(df, height=2.5)\n",
    "plt.show()"
   ]
  },
  {
   "cell_type": "code",
   "execution_count": null,
   "id": "caebbf49",
   "metadata": {},
   "outputs": [],
   "source": [
    "Puntos interesantes a ver:\n",
    "\n",
    "- Hay 3 grupos de personas diferentes que se clasifican en edad / cargos, esto puede ser un punto a analizar después.\n",
    "\n",
    "En general los valores se distribuyen de manera esperada. Con valores extremos en el caso de los cargos, sin embargo esto es de esperarse pues los cargos en los hospitales pueden variar mucho por quedarse un día más en el hospital o incluso por procedimientos extras.\n",
    "\n",
    "- Parece que los datos están limpios, la variable de índice de masa corporal se distribuye de manera normal o gausiana, lo cual sería esperado en un índice de este tipo."
   ]
  },
  {
   "cell_type": "code",
   "execution_count": null,
   "id": "91b7cbf7",
   "metadata": {},
   "outputs": [],
   "source": [
    "numeric_cols = ['age', 'bmi', 'children', 'charges']\n",
    "cm = np.corrcoef(df[numeric_cols].values.T)\n",
    "sns.set(font_scale=1.5)\n",
    "sns.heatmap(cm,annot=True, yticklabels=numeric_cols,xticklabels=numeric_cols)"
   ]
  },
  {
   "cell_type": "markdown",
   "id": "955f815e",
   "metadata": {},
   "source": [
    "Watch until evaluating the model included"
   ]
  }
 ],
 "metadata": {
  "kernelspec": {
   "display_name": "base",
   "language": "python",
   "name": "python3"
  },
  "language_info": {
   "codemirror_mode": {
    "name": "ipython",
    "version": 3
   },
   "file_extension": ".py",
   "mimetype": "text/x-python",
   "name": "python",
   "nbconvert_exporter": "python",
   "pygments_lexer": "ipython3",
   "version": "3.11.5"
  }
 },
 "nbformat": 4,
 "nbformat_minor": 5
}
