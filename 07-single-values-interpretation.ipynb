{
 "cells": [
  {
   "cell_type": "code",
   "execution_count": 1,
   "metadata": {},
   "outputs": [],
   "source": [
    "import numpy as np\n",
    "import matplotlib.pyplot as plt"
   ]
  },
  {
   "cell_type": "code",
   "execution_count": null,
   "metadata": {},
   "outputs": [],
   "source": [
    "%run utils/plot-vectors.ipynb\n",
    "%run utils/plot-matrix.ipynb"
   ]
  },
  {
   "cell_type": "code",
   "execution_count": 2,
   "metadata": {},
   "outputs": [],
   "source": [
    "A = np.array([[3,7],[5,2]])"
   ]
  },
  {
   "cell_type": "code",
   "execution_count": 3,
   "metadata": {},
   "outputs": [
    {
     "name": "stdout",
     "output_type": "stream",
     "text": [
      "[8.71337969 3.32821489]\n"
     ]
    }
   ],
   "source": [
    "U, D, V = np.linalg.svd(A)\n",
    "\n",
    "print(D)"
   ]
  },
  {
   "cell_type": "code",
   "execution_count": 5,
   "metadata": {},
   "outputs": [
    {
     "name": "stdout",
     "output_type": "stream",
     "text": [
      "3 5\n",
      "[-7.4120434792975685, -4.580894796297923]\n",
      "\n",
      "7 2\n",
      "[-5.180607985651787, -7.006017882702548]\n"
     ]
    }
   ],
   "source": [
    "u1 = [D[0]*U[0,0], D[0]*U[0,1]]\n",
    "v1 = [D[0]*V[0,0], D[0]*V[0,1]]\n",
    "\n",
    "print(A[0,0],A[1,0])\n",
    "print(u1)\n",
    "print()\n",
    "print(A[0,1],A[1,1])\n",
    "print(v1)"
   ]
  },
  {
   "cell_type": "code",
   "execution_count": null,
   "metadata": {},
   "outputs": [],
   "source": [
    "plot_matrix(A)\n",
    "plot_vectors([u1,v1], cols=[\"red\",\"blue\"])\n",
    "\n",
    "plt.text(3,5,r\"$u_1$\",size=18)\n",
    "plt.text(7,2,r\"$v_1$\",size=18)\n",
    "\n",
    "plt.text(3,5,r\"$D(u_1)$\",size=18)\n",
    "plt.text(7,2,r\"$D(v_1)$\",size=18)\n",
    "\n",
    "plt.xlim(-8,8)\n",
    "plt.ylim(-8,8)\n",
    "\n",
    "plt.show()"
   ]
  },
  {
   "cell_type": "markdown",
   "metadata": {},
   "source": [
    "TODO: I left in the minute 6:52"
   ]
  }
 ],
 "metadata": {
  "kernelspec": {
   "display_name": "linear-algebra",
   "language": "python",
   "name": "python3"
  },
  "language_info": {
   "codemirror_mode": {
    "name": "ipython",
    "version": 3
   },
   "file_extension": ".py",
   "mimetype": "text/x-python",
   "name": "python",
   "nbconvert_exporter": "python",
   "pygments_lexer": "ipython3",
   "version": "3.12.8"
  }
 },
 "nbformat": 4,
 "nbformat_minor": 2
}
