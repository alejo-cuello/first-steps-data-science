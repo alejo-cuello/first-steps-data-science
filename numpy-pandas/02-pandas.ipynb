{
 "cells": [
  {
   "cell_type": "code",
   "execution_count": 1,
   "metadata": {},
   "outputs": [],
   "source": [
    "import pandas as pd"
   ]
  },
  {
   "cell_type": "code",
   "execution_count": 9,
   "metadata": {},
   "outputs": [
    {
     "name": "stdout",
     "output_type": "stream",
     "text": [
      "1      Navas\n",
      "7     Mbappe\n",
      "10    Neymar\n",
      "dtype: object\n",
      "0     Navas\n",
      "1    Mbappe\n",
      "2    Neymar\n",
      "dtype: object\n",
      "1      Navas\n",
      "7     Mbappe\n",
      "10    Neymar\n",
      "dtype: object\n",
      "    Player  Height  Goals\n",
      "1    Navas   191.0      0\n",
      "7   Mbappe   175.0      9\n",
      "10  Neymar   177.0      8\n",
      "Index(['Player', 'Height', 'Goals'], dtype='object')\n",
      "Index([1, 7, 10], dtype='int64')\n"
     ]
    }
   ],
   "source": [
    "psgplayers = pd.Series(['Navas','Mbappe','Neymar'],index=[1,7,10])\n",
    "psgplayers_withoutindex = pd.Series(['Navas','Mbappe','Neymar'])\n",
    "print(psgplayers)\n",
    "print(psgplayers_withoutindex)\n",
    "\n",
    "psgplayers_dict=pd.Series({1:'Navas',7:'Mbappe',10:'Neymar'})\n",
    "print(psgplayers_dict)\n",
    "\n",
    "dict ={\n",
    "    'Player': ['Navas','Mbappe','Neymar'],\n",
    "    'Height': [191.0,175.0,177.0],\n",
    "    'Goals': [0,9,8]\n",
    "}\n",
    "\n",
    "psgplayers_info=pd.DataFrame(dict,index=[1,7,10])\n",
    "print(psgplayers_info)\n",
    "print(psgplayers_info.columns)\n",
    "print(psgplayers_info.index)"
   ]
  }
 ],
 "metadata": {
  "kernelspec": {
   "display_name": "base",
   "language": "python",
   "name": "python3"
  },
  "language_info": {
   "codemirror_mode": {
    "name": "ipython",
    "version": 3
   },
   "file_extension": ".py",
   "mimetype": "text/x-python",
   "name": "python",
   "nbconvert_exporter": "python",
   "pygments_lexer": "ipython3",
   "version": "3.11.5"
  }
 },
 "nbformat": 4,
 "nbformat_minor": 2
}
